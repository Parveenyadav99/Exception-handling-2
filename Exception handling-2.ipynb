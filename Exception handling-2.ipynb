{
 "cells": [
  {
   "cell_type": "code",
   "execution_count": 1,
   "id": "b7fc5415",
   "metadata": {},
   "outputs": [
    {
     "data": {
      "text/plain": [
       "'The Exception class is the base class for all exceptions in Python and serves as a parent class for all custom exceptions you may create. By deriving your custom exceptions from the Exception class, you ensure that they are compatible with the built-in exception handling mechanism in Python.\\n\\nAdditionally, by inheriting from the Exception class, you get access to all of the attributes and methods defined in the Exception class, such as the message attribute and the __str__ method, which you can use to provide detailed information about the exception.\\n\\nUsing the Exception class as the parent class for your custom exceptions also provides consistency in the way exceptions are handled and allows you to write code that can handle different types of exceptions in a unified manner.\\n\\nIn summary, using the Exception class as the parent class for custom exceptions provides compatibility with the built-in exception handling mechanism, access to useful attributes and methods, and a consistent way of handling exceptions in Python.'"
      ]
     },
     "execution_count": 1,
     "metadata": {},
     "output_type": "execute_result"
    }
   ],
   "source": [
    "# Q1. Explain why we have to use the Exception class while creating a Custom Exception.\n",
    "# Note: Here Exception class refers to the base class for all the exceptions.\n",
    "# ans\n",
    "'''The Exception class is the base class for all exceptions in Python and serves as a parent class for all custom exceptions you may create. By deriving your custom exceptions from the Exception class, you ensure that they are compatible with the built-in exception handling mechanism in Python.\n",
    "\n",
    "Additionally, by inheriting from the Exception class, you get access to all of the attributes and methods defined in the Exception class, such as the message attribute and the __str__ method, which you can use to provide detailed information about the exception.\n",
    "\n",
    "Using the Exception class as the parent class for your custom exceptions also provides consistency in the way exceptions are handled and allows you to write code that can handle different types of exceptions in a unified manner.\n",
    "\n",
    "In summary, using the Exception class as the parent class for custom exceptions provides compatibility with the built-in exception handling mechanism, access to useful attributes and methods, and a consistent way of handling exceptions in Python.'''"
   ]
  },
  {
   "cell_type": "code",
   "execution_count": 3,
   "id": "f6cffac9",
   "metadata": {},
   "outputs": [
    {
     "name": "stdout",
     "output_type": "stream",
     "text": [
      " Exception\n",
      "     TypeError\n",
      "         MultipartConversionError\n",
      "         FloatOperation\n",
      "     StopAsyncIteration\n",
      "     StopIteration\n",
      "     ImportError\n",
      "         ModuleNotFoundError\n",
      "         ZipImportError\n",
      "     OSError\n",
      "         ConnectionError\n",
      "             BrokenPipeError\n",
      "             ConnectionAbortedError\n",
      "             ConnectionRefusedError\n",
      "             ConnectionResetError\n",
      "                 RemoteDisconnected\n",
      "         BlockingIOError\n",
      "         ChildProcessError\n",
      "         FileExistsError\n",
      "         FileNotFoundError\n",
      "         IsADirectoryError\n",
      "         NotADirectoryError\n",
      "         InterruptedError\n",
      "             InterruptedSystemCall\n",
      "         PermissionError\n",
      "         ProcessLookupError\n",
      "         TimeoutError\n",
      "         UnsupportedOperation\n",
      "         herror\n",
      "         gaierror\n",
      "         timeout\n",
      "         Error\n",
      "             SameFileError\n",
      "         SpecialFileError\n",
      "         ExecError\n",
      "         ReadError\n",
      "         SSLError\n",
      "             SSLCertVerificationError\n",
      "             SSLZeroReturnError\n",
      "             SSLWantReadError\n",
      "             SSLWantWriteError\n",
      "             SSLSyscallError\n",
      "             SSLEOFError\n",
      "         URLError\n",
      "             HTTPError\n",
      "             ContentTooShortError\n",
      "         BadGzipFile\n",
      "     EOFError\n",
      "         IncompleteReadError\n",
      "     RuntimeError\n",
      "         RecursionError\n",
      "         NotImplementedError\n",
      "             ZMQVersionError\n",
      "             StdinNotImplementedError\n",
      "         _DeadlockError\n",
      "         BrokenBarrierError\n",
      "         BrokenExecutor\n",
      "         SendfileNotAvailableError\n",
      "         ExtractionError\n",
      "         VariableError\n",
      "     NameError\n",
      "         UnboundLocalError\n",
      "     AttributeError\n",
      "         FrozenInstanceError\n",
      "     SyntaxError\n",
      "         IndentationError\n",
      "             TabError\n",
      "     LookupError\n",
      "         IndexError\n",
      "         KeyError\n",
      "             NoSuchKernel\n",
      "             UnknownBackend\n",
      "         CodecRegistryError\n",
      "     ValueError\n",
      "         UnicodeError\n",
      "             UnicodeEncodeError\n",
      "             UnicodeDecodeError\n",
      "             UnicodeTranslateError\n",
      "         UnsupportedOperation\n",
      "         JSONDecodeError\n",
      "         SSLCertVerificationError\n",
      "         Error\n",
      "         ClassNotFound\n",
      "         ClipboardEmpty\n",
      "         MessageDefect\n",
      "             NoBoundaryInMultipartDefect\n",
      "             StartBoundaryNotFoundDefect\n",
      "             CloseBoundaryNotFoundDefect\n",
      "             FirstHeaderLineIsContinuationDefect\n",
      "             MisplacedEnvelopeHeaderDefect\n",
      "             MissingHeaderBodySeparatorDefect\n",
      "             MultipartInvariantViolationDefect\n",
      "             InvalidMultipartContentTransferEncodingDefect\n",
      "             UndecodableBytesDefect\n",
      "             InvalidBase64PaddingDefect\n",
      "             InvalidBase64CharactersDefect\n",
      "             InvalidBase64LengthDefect\n",
      "             HeaderDefect\n",
      "                 InvalidHeaderDefect\n",
      "                 HeaderMissingRequiredValue\n",
      "                 NonPrintableDefect\n",
      "                 ObsoleteHeaderDefect\n",
      "                 NonASCIILocalPartDefect\n",
      "         IllegalMonthError\n",
      "         IllegalWeekdayError\n",
      "         MacroToEdit\n",
      "         ParserError\n",
      "         InvalidFileException\n",
      "         InvalidVersion\n",
      "         InvalidSpecifier\n",
      "         InvalidMarker\n",
      "         UndefinedComparison\n",
      "         UndefinedEnvironmentName\n",
      "         InvalidRequirement\n",
      "             RequirementParseError\n",
      "     AssertionError\n",
      "     ArithmeticError\n",
      "         FloatingPointError\n",
      "         OverflowError\n",
      "         ZeroDivisionError\n",
      "             DivisionByZero\n",
      "             DivisionUndefined\n",
      "         DecimalException\n",
      "             Clamped\n",
      "             Rounded\n",
      "                 Underflow\n",
      "                 Overflow\n",
      "             Inexact\n",
      "                 Underflow\n",
      "                 Overflow\n",
      "             Subnormal\n",
      "                 Underflow\n",
      "             DivisionByZero\n",
      "             FloatOperation\n",
      "             InvalidOperation\n",
      "                 ConversionSyntax\n",
      "                 DivisionImpossible\n",
      "                 DivisionUndefined\n",
      "                 InvalidContext\n",
      "     SystemError\n",
      "         CodecRegistryError\n",
      "     ReferenceError\n",
      "     MemoryError\n",
      "     BufferError\n",
      "     Warning\n",
      "         UserWarning\n",
      "             GetPassWarning\n",
      "             FormatterWarning\n",
      "         DeprecationWarning\n",
      "             ProvisionalWarning\n",
      "         PendingDeprecationWarning\n",
      "         SyntaxWarning\n",
      "         RuntimeWarning\n",
      "             ProactorSelectorThreadWarning\n",
      "             UnknownTimezoneWarning\n",
      "             PEP440Warning\n",
      "         FutureWarning\n",
      "             ProvisionalCompleterWarning\n",
      "         ImportWarning\n",
      "         UnicodeWarning\n",
      "         BytesWarning\n",
      "         ResourceWarning\n",
      "         DeprecatedTzFormatWarning\n",
      "         PkgResourcesDeprecationWarning\n",
      "     Error\n",
      "     _OptionError\n",
      "     error\n",
      "     Verbose\n",
      "     _Error\n",
      "     SubprocessError\n",
      "         CalledProcessError\n",
      "         TimeoutExpired\n",
      "     _GiveupOnSendfile\n",
      "     error\n",
      "     LZMAError\n",
      "     RegistryError\n",
      "     _GiveupOnFastCopy\n",
      "     ZMQBaseError\n",
      "         ZMQError\n",
      "             ContextTerminated\n",
      "             Again\n",
      "             InterruptedSystemCall\n",
      "         ZMQBindError\n",
      "         NotDone\n",
      "     Error\n",
      "     error\n",
      "     PickleError\n",
      "         PicklingError\n",
      "         UnpicklingError\n",
      "     _Stop\n",
      "     TokenError\n",
      "     StopTokenizing\n",
      "     ClassFoundException\n",
      "     EndOfBlock\n",
      "     TraitError\n",
      "     ArgumentError\n",
      "     ArgumentTypeError\n",
      "     ConfigError\n",
      "         ConfigLoaderError\n",
      "             ArgumentError\n",
      "         ConfigFileNotFound\n",
      "     ConfigurableError\n",
      "         MultipleInstanceError\n",
      "     ApplicationError\n",
      "     NoIPAddresses\n",
      "     Error\n",
      "         CancelledError\n",
      "         TimeoutError\n",
      "         InvalidStateError\n",
      "     Incomplete\n",
      "     TimeoutError\n",
      "     InvalidStateError\n",
      "     LimitOverrunError\n",
      "     QueueEmpty\n",
      "     QueueFull\n",
      "     InvalidPortNumber\n",
      "     Empty\n",
      "     Full\n",
      "     DuplicateKernelError\n",
      "     TimeoutError\n",
      "     COMError\n",
      "     ArgumentError\n",
      "     ReturnValueIgnoredError\n",
      "     KeyReuseError\n",
      "     UnknownKeyError\n",
      "     LeakedCallbackError\n",
      "     BadYieldError\n",
      "     ReturnValueIgnoredError\n",
      "     Return\n",
      "     ErrorDuringImport\n",
      "     BdbQuit\n",
      "     Restart\n",
      "     FindCmdError\n",
      "     HomeDirError\n",
      "     ProfileDirError\n",
      "     IPythonCoreError\n",
      "         TryNext\n",
      "         UsageError\n",
      "         StdinNotImplementedError\n",
      "     InputRejected\n",
      "     GetoptError\n",
      "     OptionError\n",
      "     ErrorToken\n",
      "     PrefilterError\n",
      "     AliasError\n",
      "         InvalidAliasError\n",
      "     Error\n",
      "         InterfaceError\n",
      "         DatabaseError\n",
      "             InternalError\n",
      "             OperationalError\n",
      "             ProgrammingError\n",
      "             IntegrityError\n",
      "             DataError\n",
      "             NotSupportedError\n",
      "     Warning\n",
      "     SpaceInInput\n",
      "     DOMException\n",
      "         IndexSizeErr\n",
      "         DomstringSizeErr\n",
      "         HierarchyRequestErr\n",
      "         WrongDocumentErr\n",
      "         InvalidCharacterErr\n",
      "         NoDataAllowedErr\n",
      "         NoModificationAllowedErr\n",
      "         NotFoundErr\n",
      "         NotSupportedErr\n",
      "         InuseAttributeErr\n",
      "         InvalidStateErr\n",
      "         SyntaxErr\n",
      "         InvalidModificationErr\n",
      "         NamespaceErr\n",
      "         InvalidAccessErr\n",
      "         ValidationErr\n",
      "     ValidationError\n",
      "     EditReadOnlyBuffer\n",
      "     _Retry\n",
      "     InvalidLayoutError\n",
      "     HeightIsUnknownError\n",
      "     ParserSyntaxError\n",
      "     InternalParseError\n",
      "     _PositionUpdatingFinished\n",
      "     SimpleGetItemNotFound\n",
      "     UncaughtAttributeError\n",
      "     ParamIssue\n",
      "     _JediError\n",
      "         InternalError\n",
      "         WrongVersion\n",
      "         RefactoringError\n",
      "     OnErrorLeaf\n",
      "     InvalidPythonEnvironment\n",
      "     MessageError\n",
      "         MessageParseError\n",
      "             HeaderParseError\n",
      "             BoundaryError\n",
      "         MultipartConversionError\n",
      "         CharsetError\n",
      "     Error\n",
      "     HTTPException\n",
      "         NotConnected\n",
      "         InvalidURL\n",
      "         UnknownProtocol\n",
      "         UnknownTransferEncoding\n",
      "         UnimplementedFileMode\n",
      "         IncompleteRead\n",
      "         ImproperConnectionState\n",
      "             CannotSendRequest\n",
      "             CannotSendHeader\n",
      "             ResponseNotReady\n",
      "         BadStatusLine\n",
      "             RemoteDisconnected\n",
      "         LineTooLong\n",
      "     InteractivelyDefined\n",
      "     KillEmbedded\n",
      "     QueueEmpty\n",
      "     QueueFull\n",
      "     ExpatError\n",
      "     Error\n",
      "         ProtocolError\n",
      "         ResponseError\n",
      "         Fault\n",
      "     BadZipFile\n",
      "     LargeZipFile\n",
      "     error\n",
      "     com_error\n",
      "     internal_error\n",
      "     ParseBaseException\n",
      "         ParseException\n",
      "         ParseFatalException\n",
      "             ParseSyntaxException\n",
      "     RecursiveGrammarException\n",
      "     ResolutionError\n",
      "         VersionConflict\n",
      "             ContextualVersionConflict\n",
      "         DistributionNotFound\n",
      "         UnknownExtra\n",
      "     UnableToResolveVariableException\n",
      "     InvalidTypeInArgsException\n"
     ]
    }
   ],
   "source": [
    "# Q2. Write a python program to print Python Exception Hierarchy.\n",
    "\n",
    "def print_exception_hierarchy(exception, level=0):\n",
    "    print(\"    \" * level, exception.__name__)\n",
    "    for subclass in exception.__subclasses__():\n",
    "        print_exception_hierarchy(subclass, level + 1)\n",
    "\n",
    "print_exception_hierarchy(Exception)\n"
   ]
  },
  {
   "cell_type": "code",
   "execution_count": 4,
   "id": "d29452c3",
   "metadata": {},
   "outputs": [
    {
     "data": {
      "text/plain": [
       "'ArithmeticError is a built-in exception in Python that is a subclass of the Exception class. It is used to represent errors that occur during arithmetic operations, such as division by zero or numeric overflow.\\n\\nHere are two examples of errors that are defined in the ArithmeticError class:'"
      ]
     },
     "execution_count": 4,
     "metadata": {},
     "output_type": "execute_result"
    }
   ],
   "source": [
    "# Q3. What errors are defined in the ArithmeticError class? Explain any two with an example.\n",
    "'''ArithmeticError is a built-in exception in Python that is a subclass of the Exception class. It is used to represent errors that occur during arithmetic operations, such as division by zero or numeric overflow.\n",
    "\n",
    "Here are two examples of errors that are defined in the ArithmeticError class:'''"
   ]
  },
  {
   "cell_type": "code",
   "execution_count": 14,
   "id": "04c8e90d",
   "metadata": {},
   "outputs": [
    {
     "name": "stdout",
     "output_type": "stream",
     "text": [
      "Error: Cannot divide by zero\n",
      "Details: division by zero\n",
      "None\n",
      "2.5\n"
     ]
    }
   ],
   "source": [
    "# ZeroDivisionError: This error is raised when a mathematical operation involves dividing a number by zero. For example:\n",
    "\n",
    "def divide(dividend, divisor):\n",
    "    try:\n",
    "        result = dividend / divisor\n",
    "    except ZeroDivisionError as e:\n",
    "        print(\"Error: Cannot divide by zero\")\n",
    "        print(\"Details:\", e)\n",
    "        result = None\n",
    "    return result\n",
    "\n",
    "# Try to divide 10 by 0\n",
    "result = divide(10, 0)\n",
    "print(result)\n",
    "\n",
    "# Try to divide 5 by 2\n",
    "result = divide(5, 2)\n",
    "print(result)\n",
    "\n"
   ]
  },
  {
   "cell_type": "code",
   "execution_count": 13,
   "id": "4b86baa4",
   "metadata": {},
   "outputs": [
    {
     "name": "stdout",
     "output_type": "stream",
     "text": [
      "402387260077093773543702433923003985719374864210714632543799910429938512398629020592044208486969404800479988610197196058631666872994808558901323829669944590997424504087073759918823627727188732519779505950995276120874975462497043601418278094646496291056393887437886487337119181045825783647849977012476632889835955735432513185323958463075557409114262417474349347553428646576611667797396668820291207379143853719588249808126867838374559731746136085379534524221586593201928090878297308431392844403281231558611036976801357304216168747609675871348312025478589320767169132448426236131412508780208000261683151027341827977704784635868170164365024153691398281264810213092761244896359928705114964975419909342221566832572080821333186116811553615836546984046708975602900950537616475847728421889679646244945160765353408198901385442487984959953319101723355556602139450399736280750137837615307127761926849034352625200015888535147331611702103968175921510907788019393178114194545257223865541461062892187960223838971476088506276862967146674697562911234082439208160153780889893964518263243671616762179168909779911903754031274622289988005195444414282012187361745992642956581746628302955570299024324153181617210465832036786906117260158783520751516284225540265170483304226143974286933061690897968482590125458327168226458066526769958652682272807075781391858178889652208164348344825993266043367660176999612831860788386150279465955131156552036093988180612138558600301435694527224206344631797460594682573103790084024432438465657245014402821885252470935190620929023136493273497565513958720559654228749774011413346962715422845862377387538230483865688976461927383814900140767310446640259899490222221765904339901886018566526485061799702356193897017860040811889729918311021171229845901641921068884387121855646124960798722908519296819372388642614839657382291123125024186649353143970137428531926649875337218940694281434118520158014123344828015051399694290153483077644569099073152433278288269864602789864321139083506217095002597389863554277196742822248757586765752344220207573630569498825087968928162753848863396909959826280956121450994871701244516461260379029309120889086942028510640182154399457156805941872748998094254742173582401063677404595741785160829230135358081840096996372524230560855903700624271243416909004153690105933983835777939410970027753472000000000000000000000000000000000000000000000000000000000000000000000000000000000000000000000000000000000000000000000000000000000000000000000000000000000000000000000000000000000000000000000000000000000000000000000000000000000000000000000000000000000\n"
     ]
    }
   ],
   "source": [
    "# OverflowError: This error is raised when a mathematical operation produces a result that is too large to be represented as a floating-point number in Python. For example:\n",
    "def calculate_factorial(n):\n",
    "    if n < 0:\n",
    "        raise ValueError(\"Factorial can only be calculated for non-negative integers.\")\n",
    "    result = 1\n",
    "    for i in range(1, n+1):\n",
    "        result *= i\n",
    "        if result < 0:\n",
    "            raise OverflowError(\"Overflow occurred during calculation.\")\n",
    "    return result\n",
    "\n",
    "try:\n",
    "    result = calculate_factorial(1000)\n",
    "    print(result)\n",
    "except OverflowError as e:\n",
    "    print(e)\n",
    "\n",
    "\n"
   ]
  },
  {
   "cell_type": "code",
   "execution_count": 15,
   "id": "1ab8c3f7",
   "metadata": {},
   "outputs": [
    {
     "data": {
      "text/plain": [
       "\"The LookupError is a built-in exception in Python and is the base class for a number of other exceptions that are raised when you attempt to access an item in a collection and it doesn't exist. The most common subclasses of LookupError are KeyError and IndexError.\\n\\nKeyError is raised when you attempt to access a dictionary key that does not exist. For example:\""
      ]
     },
     "execution_count": 15,
     "metadata": {},
     "output_type": "execute_result"
    }
   ],
   "source": [
    "# Q4. Why LookupError class is used? Explain with an example KeyError and IndexError.\n",
    "'''The LookupError is a built-in exception in Python and is the base class for a number of other exceptions that are raised when you attempt to access an item in a collection and it doesn't exist. The most common subclasses of LookupError are KeyError and IndexError.\n",
    "\n",
    "KeyError is raised when you attempt to access a dictionary key that does not exist. For example:'''"
   ]
  },
  {
   "cell_type": "code",
   "execution_count": 16,
   "id": "59476484",
   "metadata": {},
   "outputs": [
    {
     "name": "stdout",
     "output_type": "stream",
     "text": [
      "KeyError: 'c' not found in the dictionary\n"
     ]
    }
   ],
   "source": [
    "d = {'a': 1, 'b': 2}\n",
    "try:\n",
    "    print(d['c'])\n",
    "except KeyError:\n",
    "    print(\"KeyError: 'c' not found in the dictionary\")\n"
   ]
  },
  {
   "cell_type": "code",
   "execution_count": 17,
   "id": "83acac13",
   "metadata": {},
   "outputs": [
    {
     "name": "stdout",
     "output_type": "stream",
     "text": [
      "IndexError: list index out of range\n"
     ]
    }
   ],
   "source": [
    "# IndexError is raised when you attempt to access a list index that is out of range. For example:\n",
    "l = [1, 2, 3]\n",
    "try:\n",
    "    print(l[3])\n",
    "except IndexError:\n",
    "    print(\"IndexError: list index out of range\")\n"
   ]
  },
  {
   "cell_type": "code",
   "execution_count": 18,
   "id": "d6c900ec",
   "metadata": {},
   "outputs": [
    {
     "data": {
      "text/plain": [
       "\"ImportError is a built-in exception in Python that is raised when the importing of a module or package fails. This can occur for various reasons, such as if the module or package does not exist, if there is a syntax error in the module, or if there is a circular import.\\n\\nHere's an example that raises an ImportError:\""
      ]
     },
     "execution_count": 18,
     "metadata": {},
     "output_type": "execute_result"
    }
   ],
   "source": [
    "# Q5. Explain ImportError. What is ModuleNotFoundError?\n",
    "'''ImportError is a built-in exception in Python that is raised when the importing of a module or package fails. This can occur for various reasons, such as if the module or package does not exist, if there is a syntax error in the module, or if there is a circular import.\n",
    "\n",
    "Here's an example that raises an ImportError:'''"
   ]
  },
  {
   "cell_type": "code",
   "execution_count": 19,
   "id": "7e812c4b",
   "metadata": {},
   "outputs": [
    {
     "name": "stdout",
     "output_type": "stream",
     "text": [
      "ImportError: No module named 'non_existent_module'\n"
     ]
    }
   ],
   "source": [
    "try:\n",
    "    import non_existent_module\n",
    "except ImportError:\n",
    "    print(\"ImportError: No module named 'non_existent_module'\")\n"
   ]
  },
  {
   "cell_type": "code",
   "execution_count": 20,
   "id": "65684e67",
   "metadata": {},
   "outputs": [
    {
     "data": {
      "text/plain": [
       "\"ModuleNotFoundError is a subclass of ImportError and is raised when a module could not be located. This is different from ImportError in that it specifically indicates that the module was not found, whereas ImportError can be raised for other reasons as well.\\n\\nHere's an example that raises a ModuleNotFoundError:\""
      ]
     },
     "execution_count": 20,
     "metadata": {},
     "output_type": "execute_result"
    }
   ],
   "source": [
    "'''ModuleNotFoundError is a subclass of ImportError and is raised when a module could not be located. This is different from ImportError in that it specifically indicates that the module was not found, whereas ImportError can be raised for other reasons as well.\n",
    "\n",
    "Here's an example that raises a ModuleNotFoundError:'''"
   ]
  },
  {
   "cell_type": "code",
   "execution_count": 21,
   "id": "fc7b78a5",
   "metadata": {},
   "outputs": [
    {
     "name": "stdout",
     "output_type": "stream",
     "text": [
      "ModuleNotFoundError: No module named 'non_existent_module'\n"
     ]
    }
   ],
   "source": [
    "try:\n",
    "    import non_existent_module\n",
    "except ModuleNotFoundError:\n",
    "    print(\"ModuleNotFoundError: No module named 'non_existent_module'\")\n"
   ]
  },
  {
   "cell_type": "code",
   "execution_count": 22,
   "id": "569e5410",
   "metadata": {},
   "outputs": [
    {
     "data": {
      "text/plain": [
       "\"Catch specific exceptions: It's a good idea to catch specific exceptions rather than catching a generic exception (e.g. Exception) because specific exceptions give you more information about what went wrong.\\n\\nProvide meaningful error messages: When catching exceptions, it's important to provide meaningful error messages that describe the issue and what the user can do about it.\\n\\nAvoid catching too broad exceptions: Catching too broad exceptions (e.g. Exception) can hide bugs and make it harder to debug the code.\\n\\nUse try and except blocks sparingly: try and except blocks should only be used to handle exceptions that you know how to recover from.\\n\\nAvoid using empty except blocks: Empty except blocks can hide important information about what went wrong and make it harder to debug the code.\\n\\nUse finally blocks to clean up resources: finally blocks can be used to clean up resources (e.g. close files, release locks, etc.) that were acquired in the try block.\\n\\nRaise exceptions when appropriate: Exceptions should be raised when the code encounters an unexpected situation that it cannot handle.\\n\\nRe-raise exceptions: If you catch an exception and want to pass it on to the next higher level of the code, you can re-raise the exception using the raise statement.\""
      ]
     },
     "execution_count": 22,
     "metadata": {},
     "output_type": "execute_result"
    }
   ],
   "source": [
    "# Q6. List down some best practices for exception handling in python.\n",
    "'''Catch specific exceptions: It's a good idea to catch specific exceptions rather than catching a generic exception (e.g. Exception) because specific exceptions give you more information about what went wrong.\n",
    "\n",
    "Provide meaningful error messages: When catching exceptions, it's important to provide meaningful error messages that describe the issue and what the user can do about it.\n",
    "\n",
    "Avoid catching too broad exceptions: Catching too broad exceptions (e.g. Exception) can hide bugs and make it harder to debug the code.\n",
    "\n",
    "Use try and except blocks sparingly: try and except blocks should only be used to handle exceptions that you know how to recover from.\n",
    "\n",
    "Avoid using empty except blocks: Empty except blocks can hide important information about what went wrong and make it harder to debug the code.\n",
    "\n",
    "Use finally blocks to clean up resources: finally blocks can be used to clean up resources (e.g. close files, release locks, etc.) that were acquired in the try block.\n",
    "\n",
    "Raise exceptions when appropriate: Exceptions should be raised when the code encounters an unexpected situation that it cannot handle.\n",
    "\n",
    "Re-raise exceptions: If you catch an exception and want to pass it on to the next higher level of the code, you can re-raise the exception using the raise statement.'''"
   ]
  },
  {
   "cell_type": "code",
   "execution_count": null,
   "id": "8d5041a5",
   "metadata": {},
   "outputs": [],
   "source": []
  }
 ],
 "metadata": {
  "kernelspec": {
   "display_name": "Python 3 (ipykernel)",
   "language": "python",
   "name": "python3"
  },
  "language_info": {
   "codemirror_mode": {
    "name": "ipython",
    "version": 3
   },
   "file_extension": ".py",
   "mimetype": "text/x-python",
   "name": "python",
   "nbconvert_exporter": "python",
   "pygments_lexer": "ipython3",
   "version": "3.9.7"
  }
 },
 "nbformat": 4,
 "nbformat_minor": 5
}
